{
 "cells": [
  {
   "cell_type": "markdown",
   "id": "b410718f-6f70-4841-a6c5-d23925afc454",
   "metadata": {},
   "source": [
    "Caroline Richards"
   ]
  },
  {
   "cell_type": "code",
   "execution_count": 175,
   "id": "958a4ae0-7c47-4072-9fab-7a354002adcc",
   "metadata": {},
   "outputs": [],
   "source": [
    "import numpy as np\n",
    "import pandas as pd\n",
    "import seaborn as sns\n",
    "from matplotlib import pyplot as plt\n",
    "from sklearn.linear_model import LinearRegression"
   ]
  },
  {
   "cell_type": "markdown",
   "id": "e5270581-cf5c-4108-b6e5-2bd71b177c10",
   "metadata": {
    "jp-MarkdownHeadingCollapsed": true
   },
   "source": [
    "# I. Data Wrangling"
   ]
  },
  {
   "cell_type": "code",
   "execution_count": 176,
   "id": "f6b7bf39-2d21-48c2-8899-4f1d3ee00f3c",
   "metadata": {},
   "outputs": [],
   "source": [
    "# load the data\n",
    "file_path = '/Users/richa/OneDrive/Documents/MATH 446/Datasets/new_scores.csv'\n",
    "grading_df = pd.read_csv(file_path, index_col='student_id')"
   ]
  },
  {
   "cell_type": "markdown",
   "id": "0fe82a53-ad8c-44b1-849b-10604f3ba204",
   "metadata": {},
   "source": [
    "In the initial loading of the new score dataset, I read in the file by indexing the data frame according to student identification, a numerical value. Before performing any processing on the grades, any students that did not take the final exam must be removed from the data frame. To identify those students, the isna() and sum() functions are utilized to determine the number of students who are missing the final exam. In order to remove these students from the dataframe, I utilized the pandas loc() function in combination with the isna() function and the ‘~’ identifier to exclude any rows where the final exam was a null value. Once those students were removed, data aggregation and processing could be performed.\r\n"
   ]
  },
  {
   "cell_type": "markdown",
   "id": "2e1580a8-a33a-461c-aab1-587ea5356141",
   "metadata": {
    "jp-MarkdownHeadingCollapsed": true
   },
   "source": [
    "## a. Clean up the data"
   ]
  },
  {
   "cell_type": "markdown",
   "id": "59dc2f11-ef91-42b0-b7b7-1221a3a4d619",
   "metadata": {},
   "source": [
    "The function isna() is from the Pandas library and identifies null values in a Pandas Data Frame by mapping those values to booleans in a same-sized object. When isna() is used in combination with sum(), a table of summations of the 'true' booleans indicating the presence of a null value are returned."
   ]
  },
  {
   "cell_type": "code",
   "execution_count": 177,
   "id": "dd383886-91f9-447d-ac60-6c6fd3381285",
   "metadata": {},
   "outputs": [
    {
     "data": {
      "text/plain": [
       "final        2\n",
       "midterm_1    1\n",
       "midterm_2    0\n",
       "midterm_3    1\n",
       "quiz_1       1\n",
       "quiz_2       0\n",
       "quiz_3       0\n",
       "quiz_4       0\n",
       "quiz_5       0\n",
       "quiz_6       1\n",
       "quiz_7       1\n",
       "quiz_8       1\n",
       "quiz_9       2\n",
       "quiz_10      2\n",
       "quiz_11      2\n",
       "dtype: int64"
      ]
     },
     "execution_count": 177,
     "metadata": {},
     "output_type": "execute_result"
    }
   ],
   "source": [
    "# finding the missing midterms, quizes, exams, etc.\n",
    "grading_df.isna().sum()"
   ]
  },
  {
   "cell_type": "markdown",
   "id": "dbb3f1d0-23c2-400e-bc01-8f542fde514b",
   "metadata": {
    "jp-MarkdownHeadingCollapsed": true
   },
   "source": [
    "### 1. Remove students who did not take the final"
   ]
  },
  {
   "cell_type": "markdown",
   "id": "9208fbd1-51a6-4879-9408-6d037dc0bee2",
   "metadata": {},
   "source": [
    "The loc() method from Pandas allows for access of specific Data Frame contents by index or column.The loc() attribute is used in this example to select the final column and specifically those values which are null values and display those rows. "
   ]
  },
  {
   "cell_type": "code",
   "execution_count": 178,
   "id": "d7c92382-8500-4274-a1d3-ef8363c6b124",
   "metadata": {
    "jp-MarkdownHeadingCollapsed": true
   },
   "outputs": [
    {
     "data": {
      "text/html": [
       "<div>\n",
       "<style scoped>\n",
       "    .dataframe tbody tr th:only-of-type {\n",
       "        vertical-align: middle;\n",
       "    }\n",
       "\n",
       "    .dataframe tbody tr th {\n",
       "        vertical-align: top;\n",
       "    }\n",
       "\n",
       "    .dataframe thead th {\n",
       "        text-align: right;\n",
       "    }\n",
       "</style>\n",
       "<table border=\"1\" class=\"dataframe\">\n",
       "  <thead>\n",
       "    <tr style=\"text-align: right;\">\n",
       "      <th></th>\n",
       "      <th>final</th>\n",
       "      <th>midterm_1</th>\n",
       "      <th>midterm_2</th>\n",
       "      <th>midterm_3</th>\n",
       "      <th>quiz_1</th>\n",
       "      <th>quiz_2</th>\n",
       "      <th>quiz_3</th>\n",
       "      <th>quiz_4</th>\n",
       "      <th>quiz_5</th>\n",
       "      <th>quiz_6</th>\n",
       "      <th>quiz_7</th>\n",
       "      <th>quiz_8</th>\n",
       "      <th>quiz_9</th>\n",
       "      <th>quiz_10</th>\n",
       "      <th>quiz_11</th>\n",
       "    </tr>\n",
       "    <tr>\n",
       "      <th>student_id</th>\n",
       "      <th></th>\n",
       "      <th></th>\n",
       "      <th></th>\n",
       "      <th></th>\n",
       "      <th></th>\n",
       "      <th></th>\n",
       "      <th></th>\n",
       "      <th></th>\n",
       "      <th></th>\n",
       "      <th></th>\n",
       "      <th></th>\n",
       "      <th></th>\n",
       "      <th></th>\n",
       "      <th></th>\n",
       "      <th></th>\n",
       "    </tr>\n",
       "  </thead>\n",
       "  <tbody>\n",
       "    <tr>\n",
       "      <th>3063221178</th>\n",
       "      <td>NaN</td>\n",
       "      <td>77.0</td>\n",
       "      <td>60.0</td>\n",
       "      <td>40.0</td>\n",
       "      <td>NaN</td>\n",
       "      <td>4.0</td>\n",
       "      <td>8.0</td>\n",
       "      <td>7.0</td>\n",
       "      <td>1.0</td>\n",
       "      <td>NaN</td>\n",
       "      <td>NaN</td>\n",
       "      <td>NaN</td>\n",
       "      <td>NaN</td>\n",
       "      <td>NaN</td>\n",
       "      <td>NaN</td>\n",
       "    </tr>\n",
       "    <tr>\n",
       "      <th>5369149961</th>\n",
       "      <td>NaN</td>\n",
       "      <td>63.0</td>\n",
       "      <td>52.0</td>\n",
       "      <td>NaN</td>\n",
       "      <td>7.0</td>\n",
       "      <td>5.0</td>\n",
       "      <td>7.0</td>\n",
       "      <td>4.0</td>\n",
       "      <td>0.0</td>\n",
       "      <td>9.0</td>\n",
       "      <td>4.0</td>\n",
       "      <td>0.0</td>\n",
       "      <td>NaN</td>\n",
       "      <td>NaN</td>\n",
       "      <td>NaN</td>\n",
       "    </tr>\n",
       "  </tbody>\n",
       "</table>\n",
       "</div>"
      ],
      "text/plain": [
       "            final  midterm_1  midterm_2  midterm_3  quiz_1  quiz_2  quiz_3  \\\n",
       "student_id                                                                   \n",
       "3063221178    NaN       77.0       60.0       40.0     NaN     4.0     8.0   \n",
       "5369149961    NaN       63.0       52.0        NaN     7.0     5.0     7.0   \n",
       "\n",
       "            quiz_4  quiz_5  quiz_6  quiz_7  quiz_8  quiz_9  quiz_10  quiz_11  \n",
       "student_id                                                                    \n",
       "3063221178     7.0     1.0     NaN     NaN     NaN     NaN      NaN      NaN  \n",
       "5369149961     4.0     0.0     9.0     4.0     0.0     NaN      NaN      NaN  "
      ]
     },
     "execution_count": 178,
     "metadata": {},
     "output_type": "execute_result"
    }
   ],
   "source": [
    "# there are two missing final exams, so these students cannot receive a course letter grade\n",
    "grading_df.loc[grading_df.final.isna(), :]"
   ]
  },
  {
   "cell_type": "code",
   "execution_count": 179,
   "id": "dbc13b66-b9ec-4d11-916a-d5ab4d5a12e5",
   "metadata": {},
   "outputs": [],
   "source": [
    "# remove the ones with missing finals\n",
    "grading_df = grading_df.loc[~grading_df.final.isna(), :]"
   ]
  },
  {
   "cell_type": "markdown",
   "id": "6c099587-4387-4afc-b83a-3bc751807068",
   "metadata": {
    "jp-MarkdownHeadingCollapsed": true
   },
   "source": [
    "### 2. Determine students with other missing exams"
   ]
  },
  {
   "cell_type": "code",
   "execution_count": 180,
   "id": "bd945e83-9633-442e-b5c0-3a038f5ed3b1",
   "metadata": {},
   "outputs": [
    {
     "data": {
      "text/plain": [
       "final        0\n",
       "midterm_1    1\n",
       "midterm_2    0\n",
       "midterm_3    0\n",
       "quiz_1       0\n",
       "quiz_2       0\n",
       "quiz_3       0\n",
       "quiz_4       0\n",
       "quiz_5       0\n",
       "quiz_6       0\n",
       "quiz_7       0\n",
       "quiz_8       0\n",
       "quiz_9       0\n",
       "quiz_10      0\n",
       "quiz_11      0\n",
       "dtype: int64"
      ]
     },
     "execution_count": 180,
     "metadata": {},
     "output_type": "execute_result"
    }
   ],
   "source": [
    "# determine if there are other missing exams\n",
    "grading_df.isna().sum()"
   ]
  },
  {
   "cell_type": "markdown",
   "id": "a5bea23c-3253-4dac-8c7d-f8ae12ddcf29",
   "metadata": {
    "jp-MarkdownHeadingCollapsed": true
   },
   "source": [
    "# II. Averaging"
   ]
  },
  {
   "cell_type": "markdown",
   "id": "6bd9b5bc-34bf-4991-9834-2bfcc9771998",
   "metadata": {
    "jp-MarkdownHeadingCollapsed": true
   },
   "source": [
    "## a. Quiz Averages"
   ]
  },
  {
   "cell_type": "markdown",
   "id": "801f293c-7bf8-43ab-a261-958f2401c114",
   "metadata": {},
   "source": [
    "The first step in processing the student performance data for grade and GPA determination is to aggregate the students' quizzes and determine the average quiz grade for each individual student. I used the dictionary mapping process and created a data frame of quizzes to aggregate into the quiz average. \n",
    "\r\n",
    "The grading criteria stipulates that the lowest two quiz scores must be dropped before taking the quiz average from the aggregated data. To achieve this, I utilized the .iloc() applied to the quiz data frame to access every row. I then utilized the apply() function  in combination with lambda and NumPy arrays to calculate the average of each student's quiz. Inside the apply function, a lambda formula is defined to iterate by row where each row in the quiz data frame represents a single student’s performance. Each row is then treated as a NumPy array that is sorted in ascending order. The average of the quiz scores in the array is then taken starting from the index of 2 which would be the third lowest score as stipulated in the grading requirements.\r\n"
   ]
  },
  {
   "cell_type": "code",
   "execution_count": 181,
   "id": "6032d88e-b2ec-4410-87fe-396a7efd5b3f",
   "metadata": {},
   "outputs": [
    {
     "data": {
      "text/html": [
       "<div>\n",
       "<style scoped>\n",
       "    .dataframe tbody tr th:only-of-type {\n",
       "        vertical-align: middle;\n",
       "    }\n",
       "\n",
       "    .dataframe tbody tr th {\n",
       "        vertical-align: top;\n",
       "    }\n",
       "\n",
       "    .dataframe thead th {\n",
       "        text-align: right;\n",
       "    }\n",
       "</style>\n",
       "<table border=\"1\" class=\"dataframe\">\n",
       "  <thead>\n",
       "    <tr style=\"text-align: right;\">\n",
       "      <th></th>\n",
       "      <th>Final</th>\n",
       "      <th>Quiz_Avg</th>\n",
       "    </tr>\n",
       "    <tr>\n",
       "      <th>student_id</th>\n",
       "      <th></th>\n",
       "      <th></th>\n",
       "    </tr>\n",
       "  </thead>\n",
       "  <tbody>\n",
       "    <tr>\n",
       "      <th>1367593690</th>\n",
       "      <td>96.0</td>\n",
       "      <td>6.875</td>\n",
       "    </tr>\n",
       "    <tr>\n",
       "      <th>1567876630</th>\n",
       "      <td>69.0</td>\n",
       "      <td>7.375</td>\n",
       "    </tr>\n",
       "    <tr>\n",
       "      <th>1617655608</th>\n",
       "      <td>94.0</td>\n",
       "      <td>7.875</td>\n",
       "    </tr>\n",
       "    <tr>\n",
       "      <th>1830694822</th>\n",
       "      <td>52.0</td>\n",
       "      <td>6.500</td>\n",
       "    </tr>\n",
       "    <tr>\n",
       "      <th>2267294565</th>\n",
       "      <td>79.0</td>\n",
       "      <td>8.375</td>\n",
       "    </tr>\n",
       "  </tbody>\n",
       "</table>\n",
       "</div>"
      ],
      "text/plain": [
       "            Final  Quiz_Avg\n",
       "student_id                 \n",
       "1367593690   96.0     6.875\n",
       "1567876630   69.0     7.375\n",
       "1617655608   94.0     7.875\n",
       "1830694822   52.0     6.500\n",
       "2267294565   79.0     8.375"
      ]
     },
     "execution_count": 181,
     "metadata": {},
     "output_type": "execute_result"
    }
   ],
   "source": [
    "quiz_df = pd.DataFrame({\"quiz_\" + str(k): grading_df['quiz_' + str(k)] for k in range(1, 12)})\n",
    "agg_df = pd.DataFrame({'Final':grading_df['final']})\n",
    "agg_df['Quiz_Avg'] = quiz_df.iloc[:, 1:].apply(lambda row: np.mean(np.sort(row)[2:]), axis=1)\n",
    "agg_df.head()"
   ]
  },
  {
   "cell_type": "markdown",
   "id": "a7c0f2bf-57b8-47d4-84e9-5e1e8cf1e12e",
   "metadata": {},
   "source": [
    "## b. Midterm Averaging"
   ]
  },
  {
   "cell_type": "markdown",
   "id": "689c2e71-cea9-4b4c-8201-e0a0d338c1c3",
   "metadata": {},
   "source": [
    "As previously conducted, the only other null value in the data frame is in the ‘midterm_1’ column. To determine the index position of this null value, I utilized the loc() method and the isna() function."
   ]
  },
  {
   "cell_type": "code",
   "execution_count": 182,
   "id": "8df36c4e-fe11-47e8-a093-1bb2eb0e84ce",
   "metadata": {},
   "outputs": [
    {
     "data": {
      "text/html": [
       "<div>\n",
       "<style scoped>\n",
       "    .dataframe tbody tr th:only-of-type {\n",
       "        vertical-align: middle;\n",
       "    }\n",
       "\n",
       "    .dataframe tbody tr th {\n",
       "        vertical-align: top;\n",
       "    }\n",
       "\n",
       "    .dataframe thead th {\n",
       "        text-align: right;\n",
       "    }\n",
       "</style>\n",
       "<table border=\"1\" class=\"dataframe\">\n",
       "  <thead>\n",
       "    <tr style=\"text-align: right;\">\n",
       "      <th></th>\n",
       "      <th>final</th>\n",
       "      <th>midterm_1</th>\n",
       "      <th>midterm_2</th>\n",
       "      <th>midterm_3</th>\n",
       "      <th>quiz_1</th>\n",
       "      <th>quiz_2</th>\n",
       "      <th>quiz_3</th>\n",
       "      <th>quiz_4</th>\n",
       "      <th>quiz_5</th>\n",
       "      <th>quiz_6</th>\n",
       "      <th>quiz_7</th>\n",
       "      <th>quiz_8</th>\n",
       "      <th>quiz_9</th>\n",
       "      <th>quiz_10</th>\n",
       "      <th>quiz_11</th>\n",
       "    </tr>\n",
       "    <tr>\n",
       "      <th>student_id</th>\n",
       "      <th></th>\n",
       "      <th></th>\n",
       "      <th></th>\n",
       "      <th></th>\n",
       "      <th></th>\n",
       "      <th></th>\n",
       "      <th></th>\n",
       "      <th></th>\n",
       "      <th></th>\n",
       "      <th></th>\n",
       "      <th></th>\n",
       "      <th></th>\n",
       "      <th></th>\n",
       "      <th></th>\n",
       "      <th></th>\n",
       "    </tr>\n",
       "  </thead>\n",
       "  <tbody>\n",
       "    <tr>\n",
       "      <th>8996487694</th>\n",
       "      <td>19.0</td>\n",
       "      <td>NaN</td>\n",
       "      <td>16.0</td>\n",
       "      <td>26.0</td>\n",
       "      <td>4.0</td>\n",
       "      <td>0.0</td>\n",
       "      <td>0.0</td>\n",
       "      <td>3.0</td>\n",
       "      <td>2.5</td>\n",
       "      <td>0.0</td>\n",
       "      <td>4.5</td>\n",
       "      <td>3.5</td>\n",
       "      <td>3.0</td>\n",
       "      <td>5.5</td>\n",
       "      <td>8.0</td>\n",
       "    </tr>\n",
       "  </tbody>\n",
       "</table>\n",
       "</div>"
      ],
      "text/plain": [
       "            final  midterm_1  midterm_2  midterm_3  quiz_1  quiz_2  quiz_3  \\\n",
       "student_id                                                                   \n",
       "8996487694   19.0        NaN       16.0       26.0     4.0     0.0     0.0   \n",
       "\n",
       "            quiz_4  quiz_5  quiz_6  quiz_7  quiz_8  quiz_9  quiz_10  quiz_11  \n",
       "student_id                                                                    \n",
       "8996487694     3.0     2.5     0.0     4.5     3.5     3.0      5.5      8.0  "
      ]
     },
     "execution_count": 182,
     "metadata": {},
     "output_type": "execute_result"
    }
   ],
   "source": [
    "# a midterm was missed but the final exam was taken\n",
    "# infer from a linear regression of the midterm 1 aginast the quiz avg\n",
    "grading_df.loc[grading_df.midterm_1.isna(), :]"
   ]
  },
  {
   "cell_type": "markdown",
   "id": "be1f4df2-21c1-4206-b0a2-62cef966734b",
   "metadata": {
    "jp-MarkdownHeadingCollapsed": true
   },
   "source": [
    "### 1. Regression of Midterm Avg and Quiz"
   ]
  },
  {
   "cell_type": "markdown",
   "id": "8749b948-b20a-43aa-92fa-32c5095ca1a0",
   "metadata": {},
   "source": [
    "Grading criteria requires that the predicted value from the regression of the quiz average against the specific midterm can replace a missing midterm score for those students who have taken the final exam. In order to replace the null value of “midterm_1” for students [8996487694], I first ran regression analysis on the specified attributes of the data frame. I created two separate data frames of the quiz averages and the midterm 1 grades identified by student ID values to be used in merging the data frames. Upon reflection, this merger was wholly unnecessary as a single data frame could have been created and used instead of creating and merging two data frames. .\r\n"
   ]
  },
  {
   "cell_type": "markdown",
   "id": "7fe2f00d-21a5-4dbc-9b3b-91553c1befe1",
   "metadata": {},
   "source": [
    "I then separated the data frame into two datasets, a training dataset and a test dataset. The training dataset consisted of every instance/student that did not have a null-value for midterm 1 while the test dataset consisted of the student who missed midterm 1."
   ]
  },
  {
   "cell_type": "code",
   "execution_count": 183,
   "id": "156c995b-d588-41f9-9ab5-9818d3979e03",
   "metadata": {},
   "outputs": [],
   "source": [
    "# the missing midterm is in midterm 1\n",
    "mid1_df = pd.DataFrame({'mid1':grading_df['midterm_1'], 'stu_id':grading_df.index.values})\n",
    "quiz_avg_df = pd.DataFrame({'qavg':agg_df['Quiz_Avg'], 'stu_id':grading_df.index.values})\n",
    "\n",
    "reg_df = pd.merge(mid1_df, quiz_avg_df, on = 'stu_id')\n",
    "\n",
    "# rows with non-null values\n",
    "training_data = reg_df.dropna()\n",
    "# rows with null values\n",
    "testing_data = reg_df[reg_df['mid1'].isna()]"
   ]
  },
  {
   "cell_type": "markdown",
   "id": "e590d9c5-8615-4e61-a975-418f2a5b9cb3",
   "metadata": {},
   "source": [
    "Once the datasets were separated, I utilized the scikit-learn Linear Regression function to create a regression model instance. I identified the quiz averages as the x-values  and the midterm 1 grades as the y-values in the training dataset. With the x- and y- values identified, I fit the training dataset to the regression model instance. Using the coef_ and intercept_ methods the model produced was the following:\n",
    "\n",
    "$y = 5.73455459(qavg) + 30.53118193033194$"
   ]
  },
  {
   "cell_type": "code",
   "execution_count": 184,
   "id": "86c65eb7-c806-492e-aa32-c7e21f34cbec",
   "metadata": {},
   "outputs": [
    {
     "data": {
      "text/html": [
       "<style>#sk-container-id-4 {color: black;}#sk-container-id-4 pre{padding: 0;}#sk-container-id-4 div.sk-toggleable {background-color: white;}#sk-container-id-4 label.sk-toggleable__label {cursor: pointer;display: block;width: 100%;margin-bottom: 0;padding: 0.3em;box-sizing: border-box;text-align: center;}#sk-container-id-4 label.sk-toggleable__label-arrow:before {content: \"▸\";float: left;margin-right: 0.25em;color: #696969;}#sk-container-id-4 label.sk-toggleable__label-arrow:hover:before {color: black;}#sk-container-id-4 div.sk-estimator:hover label.sk-toggleable__label-arrow:before {color: black;}#sk-container-id-4 div.sk-toggleable__content {max-height: 0;max-width: 0;overflow: hidden;text-align: left;background-color: #f0f8ff;}#sk-container-id-4 div.sk-toggleable__content pre {margin: 0.2em;color: black;border-radius: 0.25em;background-color: #f0f8ff;}#sk-container-id-4 input.sk-toggleable__control:checked~div.sk-toggleable__content {max-height: 200px;max-width: 100%;overflow: auto;}#sk-container-id-4 input.sk-toggleable__control:checked~label.sk-toggleable__label-arrow:before {content: \"▾\";}#sk-container-id-4 div.sk-estimator input.sk-toggleable__control:checked~label.sk-toggleable__label {background-color: #d4ebff;}#sk-container-id-4 div.sk-label input.sk-toggleable__control:checked~label.sk-toggleable__label {background-color: #d4ebff;}#sk-container-id-4 input.sk-hidden--visually {border: 0;clip: rect(1px 1px 1px 1px);clip: rect(1px, 1px, 1px, 1px);height: 1px;margin: -1px;overflow: hidden;padding: 0;position: absolute;width: 1px;}#sk-container-id-4 div.sk-estimator {font-family: monospace;background-color: #f0f8ff;border: 1px dotted black;border-radius: 0.25em;box-sizing: border-box;margin-bottom: 0.5em;}#sk-container-id-4 div.sk-estimator:hover {background-color: #d4ebff;}#sk-container-id-4 div.sk-parallel-item::after {content: \"\";width: 100%;border-bottom: 1px solid gray;flex-grow: 1;}#sk-container-id-4 div.sk-label:hover label.sk-toggleable__label {background-color: #d4ebff;}#sk-container-id-4 div.sk-serial::before {content: \"\";position: absolute;border-left: 1px solid gray;box-sizing: border-box;top: 0;bottom: 0;left: 50%;z-index: 0;}#sk-container-id-4 div.sk-serial {display: flex;flex-direction: column;align-items: center;background-color: white;padding-right: 0.2em;padding-left: 0.2em;position: relative;}#sk-container-id-4 div.sk-item {position: relative;z-index: 1;}#sk-container-id-4 div.sk-parallel {display: flex;align-items: stretch;justify-content: center;background-color: white;position: relative;}#sk-container-id-4 div.sk-item::before, #sk-container-id-4 div.sk-parallel-item::before {content: \"\";position: absolute;border-left: 1px solid gray;box-sizing: border-box;top: 0;bottom: 0;left: 50%;z-index: -1;}#sk-container-id-4 div.sk-parallel-item {display: flex;flex-direction: column;z-index: 1;position: relative;background-color: white;}#sk-container-id-4 div.sk-parallel-item:first-child::after {align-self: flex-end;width: 50%;}#sk-container-id-4 div.sk-parallel-item:last-child::after {align-self: flex-start;width: 50%;}#sk-container-id-4 div.sk-parallel-item:only-child::after {width: 0;}#sk-container-id-4 div.sk-dashed-wrapped {border: 1px dashed gray;margin: 0 0.4em 0.5em 0.4em;box-sizing: border-box;padding-bottom: 0.4em;background-color: white;}#sk-container-id-4 div.sk-label label {font-family: monospace;font-weight: bold;display: inline-block;line-height: 1.2em;}#sk-container-id-4 div.sk-label-container {text-align: center;}#sk-container-id-4 div.sk-container {/* jupyter's `normalize.less` sets `[hidden] { display: none; }` but bootstrap.min.css set `[hidden] { display: none !important; }` so we also need the `!important` here to be able to override the default hidden behavior on the sphinx rendered scikit-learn.org. See: https://github.com/scikit-learn/scikit-learn/issues/21755 */display: inline-block !important;position: relative;}#sk-container-id-4 div.sk-text-repr-fallback {display: none;}</style><div id=\"sk-container-id-4\" class=\"sk-top-container\"><div class=\"sk-text-repr-fallback\"><pre>LinearRegression()</pre><b>In a Jupyter environment, please rerun this cell to show the HTML representation or trust the notebook. <br />On GitHub, the HTML representation is unable to render, please try loading this page with nbviewer.org.</b></div><div class=\"sk-container\" hidden><div class=\"sk-item\"><div class=\"sk-estimator sk-toggleable\"><input class=\"sk-toggleable__control sk-hidden--visually\" id=\"sk-estimator-id-4\" type=\"checkbox\" checked><label for=\"sk-estimator-id-4\" class=\"sk-toggleable__label sk-toggleable__label-arrow\">LinearRegression</label><div class=\"sk-toggleable__content\"><pre>LinearRegression()</pre></div></div></div></div></div>"
      ],
      "text/plain": [
       "LinearRegression()"
      ]
     },
     "execution_count": 184,
     "metadata": {},
     "output_type": "execute_result"
    }
   ],
   "source": [
    "#create regression model\n",
    "reg_model = LinearRegression()\n",
    "x_train = training_data[['qavg']]\n",
    "y_train = training_data['mid1']\n",
    "reg_model.fit(x_train, y_train)"
   ]
  },
  {
   "cell_type": "code",
   "execution_count": 200,
   "id": "4c6b1648-4567-4534-876a-2e5238eeaf29",
   "metadata": {},
   "outputs": [
    {
     "data": {
      "text/plain": [
       "array([5.73455459])"
      ]
     },
     "execution_count": 200,
     "metadata": {},
     "output_type": "execute_result"
    }
   ],
   "source": [
    "reg_model.coef_"
   ]
  },
  {
   "cell_type": "code",
   "execution_count": 201,
   "id": "a3036428-164a-4494-9d7a-d5f310207f84",
   "metadata": {},
   "outputs": [
    {
     "data": {
      "text/plain": [
       "30.53118193033194"
      ]
     },
     "execution_count": 201,
     "metadata": {},
     "output_type": "execute_result"
    }
   ],
   "source": [
    "reg_model.intercept_"
   ]
  },
  {
   "cell_type": "markdown",
   "id": "032dfc87-2fa7-42f0-a5c2-dda3954d6bc2",
   "metadata": {
    "jp-MarkdownHeadingCollapsed": true
   },
   "source": [
    "### 2. Predicting the Midterm Value"
   ]
  },
  {
   "cell_type": "markdown",
   "id": "f5def5df-ce4e-4140-af4f-f74908966365",
   "metadata": {},
   "source": [
    "Once the regression model was run on the training data and a model was produced, I could then utilize the test data’s quiz average value to predict a midterm 1 value. The scikit-learn Linear Regression includes the predict() function that takes the defined x-value as an argument and applies it to the model. Once the value for the missing midterm one was predicted, I retrieved the student ID index previously identified and replaced the null value with the predicted value."
   ]
  },
  {
   "cell_type": "code",
   "execution_count": 185,
   "id": "c41a2b74-97a7-4ca3-83b0-96f6f14293fd",
   "metadata": {},
   "outputs": [],
   "source": [
    "# predict the missing values\n",
    "x_test = testing_data[['qavg']]\n",
    "miss_mid_predict = reg_model.predict(x_test)\n",
    "\n",
    "# update data with predicted\n",
    "grading_df.midterm_1[8996487694] = miss_mid_predict"
   ]
  },
  {
   "cell_type": "markdown",
   "id": "0b6b0aa6-65f6-4876-bc5a-51dd1f45b576",
   "metadata": {},
   "source": [
    "### 3. Calculating Midterm Averages"
   ]
  },
  {
   "cell_type": "markdown",
   "id": "484a04cf-a017-40d0-a23e-662f946dce80",
   "metadata": {},
   "source": [
    "With no null midterm scores, I utilized the dictionary mapping process once more to create a midterm data frame indexed by student. I defined a midterm averaging function to calculate the weight of each midterm by score. In my function, I made each row of the midterm data frame into a NumPy array which held each of the three midterm scores for a single student. I then sorted the midterms and applied a 20% weight to the zero-index or lowest midterm score, 35% weight to the one-index, and 45% weight to the two-index or highest score and returned their sum as the midterm average."
   ]
  },
  {
   "cell_type": "code",
   "execution_count": 186,
   "id": "40e3a4d2-a291-40e6-a9ee-2fef2a3e01ee",
   "metadata": {},
   "outputs": [],
   "source": [
    "midterm_df = pd.DataFrame({\"midterm_\" + str(k): grading_df['midterm_' + str(k)] for k in range(1, 4)})\n",
    "\n",
    "def mid_avg(x):\n",
    "    m = np.array(x)\n",
    "    m.sort()\n",
    "    avg = m[0]*0.2 + m[1]*0.35 + m[2]*0.45\n",
    "    return avg\n",
    "\n",
    "agg_df['Midterm_Avg'] = midterm_df.apply(mid_avg, axis=1)"
   ]
  },
  {
   "cell_type": "markdown",
   "id": "4c918d0c-d5c0-4a86-aaf3-dba8dd6e7a5b",
   "metadata": {},
   "source": [
    "## c. Course Grade"
   ]
  },
  {
   "cell_type": "markdown",
   "id": "6d440ddd-98d7-4b5e-81c2-abfeb44904c9",
   "metadata": {},
   "source": [
    "To determine the course grade as indicated by the grading criteria, I defined a function which took the aggregate data frame rows and set their attribute values in a corresponding NumPy array. I initially added Final exam scores to the aggregate data frame first, then quiz average, then midterm average, as such my indexes were as follows: final exam at index zero, quiz average at index 1, and midterm average at index 2. I calculated students’ weighted course grades in correspondence with these indexes with quiz average at 15%, midterm average at 45%, and final exam at 40%."
   ]
  },
  {
   "cell_type": "code",
   "execution_count": 190,
   "id": "b68e6b81-b852-4f8c-8185-6e01e1e73ca1",
   "metadata": {},
   "outputs": [],
   "source": [
    "def weighted_grade(x):\n",
    "    w = np.array(x)\n",
    "    wgrade = w[0]*0.40 + w[1]*0.15 + w[2]*0.45\n",
    "    return wgrade\n",
    "\n",
    "agg_df['Weighted_Course_Grade'] = agg_df.apply(weighted_grade, axis=1)"
   ]
  },
  {
   "cell_type": "markdown",
   "id": "0456ab67-649c-4023-9824-b5c7fb3d238b",
   "metadata": {},
   "source": [
    "## d. Aggregated/Avg Dataframe"
   ]
  },
  {
   "cell_type": "code",
   "execution_count": 191,
   "id": "2ab61264-b5b1-41ce-917a-acb5e259e5a1",
   "metadata": {},
   "outputs": [
    {
     "data": {
      "text/html": [
       "<div>\n",
       "<style scoped>\n",
       "    .dataframe tbody tr th:only-of-type {\n",
       "        vertical-align: middle;\n",
       "    }\n",
       "\n",
       "    .dataframe tbody tr th {\n",
       "        vertical-align: top;\n",
       "    }\n",
       "\n",
       "    .dataframe thead th {\n",
       "        text-align: right;\n",
       "    }\n",
       "</style>\n",
       "<table border=\"1\" class=\"dataframe\">\n",
       "  <thead>\n",
       "    <tr style=\"text-align: right;\">\n",
       "      <th></th>\n",
       "      <th>Final</th>\n",
       "      <th>Quiz_Avg</th>\n",
       "      <th>Midterm_Avg</th>\n",
       "      <th>Weighted_Course_Grade</th>\n",
       "    </tr>\n",
       "    <tr>\n",
       "      <th>student_id</th>\n",
       "      <th></th>\n",
       "      <th></th>\n",
       "      <th></th>\n",
       "      <th></th>\n",
       "    </tr>\n",
       "  </thead>\n",
       "  <tbody>\n",
       "    <tr>\n",
       "      <th>1367593690</th>\n",
       "      <td>96.0</td>\n",
       "      <td>6.8750</td>\n",
       "      <td>64.750000</td>\n",
       "      <td>68.568750</td>\n",
       "    </tr>\n",
       "    <tr>\n",
       "      <th>1567876630</th>\n",
       "      <td>69.0</td>\n",
       "      <td>7.3750</td>\n",
       "      <td>75.700000</td>\n",
       "      <td>62.771250</td>\n",
       "    </tr>\n",
       "    <tr>\n",
       "      <th>1617655608</th>\n",
       "      <td>94.0</td>\n",
       "      <td>7.8750</td>\n",
       "      <td>75.350000</td>\n",
       "      <td>72.688750</td>\n",
       "    </tr>\n",
       "    <tr>\n",
       "      <th>1830694822</th>\n",
       "      <td>52.0</td>\n",
       "      <td>6.5000</td>\n",
       "      <td>56.950000</td>\n",
       "      <td>47.402500</td>\n",
       "    </tr>\n",
       "    <tr>\n",
       "      <th>2267294565</th>\n",
       "      <td>79.0</td>\n",
       "      <td>8.3750</td>\n",
       "      <td>69.600000</td>\n",
       "      <td>64.176250</td>\n",
       "    </tr>\n",
       "    <tr>\n",
       "      <th>2328480380</th>\n",
       "      <td>118.0</td>\n",
       "      <td>8.5000</td>\n",
       "      <td>90.600000</td>\n",
       "      <td>89.245000</td>\n",
       "    </tr>\n",
       "    <tr>\n",
       "      <th>2503055012</th>\n",
       "      <td>75.0</td>\n",
       "      <td>7.5000</td>\n",
       "      <td>80.250000</td>\n",
       "      <td>67.237500</td>\n",
       "    </tr>\n",
       "    <tr>\n",
       "      <th>2933314271</th>\n",
       "      <td>113.0</td>\n",
       "      <td>9.6875</td>\n",
       "      <td>95.800000</td>\n",
       "      <td>89.763125</td>\n",
       "    </tr>\n",
       "    <tr>\n",
       "      <th>3013545559</th>\n",
       "      <td>60.0</td>\n",
       "      <td>7.8750</td>\n",
       "      <td>80.350000</td>\n",
       "      <td>61.338750</td>\n",
       "    </tr>\n",
       "    <tr>\n",
       "      <th>3053107449</th>\n",
       "      <td>99.0</td>\n",
       "      <td>9.8750</td>\n",
       "      <td>96.050000</td>\n",
       "      <td>84.303750</td>\n",
       "    </tr>\n",
       "    <tr>\n",
       "      <th>3164838931</th>\n",
       "      <td>100.0</td>\n",
       "      <td>8.9375</td>\n",
       "      <td>86.550000</td>\n",
       "      <td>80.288125</td>\n",
       "    </tr>\n",
       "    <tr>\n",
       "      <th>3246610981</th>\n",
       "      <td>73.0</td>\n",
       "      <td>7.0000</td>\n",
       "      <td>71.650000</td>\n",
       "      <td>62.492500</td>\n",
       "    </tr>\n",
       "    <tr>\n",
       "      <th>3422798597</th>\n",
       "      <td>97.0</td>\n",
       "      <td>8.3750</td>\n",
       "      <td>86.500000</td>\n",
       "      <td>78.981250</td>\n",
       "    </tr>\n",
       "    <tr>\n",
       "      <th>3426990311</th>\n",
       "      <td>104.0</td>\n",
       "      <td>8.0625</td>\n",
       "      <td>58.450000</td>\n",
       "      <td>69.111875</td>\n",
       "    </tr>\n",
       "    <tr>\n",
       "      <th>3444235888</th>\n",
       "      <td>84.0</td>\n",
       "      <td>8.7500</td>\n",
       "      <td>84.850000</td>\n",
       "      <td>73.095000</td>\n",
       "    </tr>\n",
       "    <tr>\n",
       "      <th>3687160969</th>\n",
       "      <td>112.0</td>\n",
       "      <td>9.3750</td>\n",
       "      <td>95.900000</td>\n",
       "      <td>89.361250</td>\n",
       "    </tr>\n",
       "    <tr>\n",
       "      <th>3753516619</th>\n",
       "      <td>126.0</td>\n",
       "      <td>9.7500</td>\n",
       "      <td>83.950000</td>\n",
       "      <td>89.640000</td>\n",
       "    </tr>\n",
       "    <tr>\n",
       "      <th>4188332510</th>\n",
       "      <td>106.0</td>\n",
       "      <td>9.8750</td>\n",
       "      <td>96.050000</td>\n",
       "      <td>87.103750</td>\n",
       "    </tr>\n",
       "    <tr>\n",
       "      <th>4304604102</th>\n",
       "      <td>53.0</td>\n",
       "      <td>5.0000</td>\n",
       "      <td>60.300000</td>\n",
       "      <td>49.085000</td>\n",
       "    </tr>\n",
       "    <tr>\n",
       "      <th>4426198523</th>\n",
       "      <td>107.0</td>\n",
       "      <td>9.4375</td>\n",
       "      <td>86.150000</td>\n",
       "      <td>82.983125</td>\n",
       "    </tr>\n",
       "    <tr>\n",
       "      <th>4443137050</th>\n",
       "      <td>82.0</td>\n",
       "      <td>8.3750</td>\n",
       "      <td>74.100000</td>\n",
       "      <td>67.401250</td>\n",
       "    </tr>\n",
       "    <tr>\n",
       "      <th>4620130367</th>\n",
       "      <td>101.0</td>\n",
       "      <td>8.3750</td>\n",
       "      <td>74.250000</td>\n",
       "      <td>75.068750</td>\n",
       "    </tr>\n",
       "    <tr>\n",
       "      <th>4738897107</th>\n",
       "      <td>103.0</td>\n",
       "      <td>8.6250</td>\n",
       "      <td>91.450000</td>\n",
       "      <td>83.646250</td>\n",
       "    </tr>\n",
       "    <tr>\n",
       "      <th>4889751235</th>\n",
       "      <td>58.0</td>\n",
       "      <td>8.1250</td>\n",
       "      <td>79.850000</td>\n",
       "      <td>60.351250</td>\n",
       "    </tr>\n",
       "    <tr>\n",
       "      <th>4916395511</th>\n",
       "      <td>127.0</td>\n",
       "      <td>9.4375</td>\n",
       "      <td>97.250000</td>\n",
       "      <td>95.978125</td>\n",
       "    </tr>\n",
       "    <tr>\n",
       "      <th>5190083554</th>\n",
       "      <td>56.0</td>\n",
       "      <td>9.3125</td>\n",
       "      <td>79.750000</td>\n",
       "      <td>59.684375</td>\n",
       "    </tr>\n",
       "    <tr>\n",
       "      <th>5362584796</th>\n",
       "      <td>95.0</td>\n",
       "      <td>8.6250</td>\n",
       "      <td>85.700000</td>\n",
       "      <td>77.858750</td>\n",
       "    </tr>\n",
       "    <tr>\n",
       "      <th>5383031004</th>\n",
       "      <td>117.0</td>\n",
       "      <td>8.6250</td>\n",
       "      <td>85.350000</td>\n",
       "      <td>86.501250</td>\n",
       "    </tr>\n",
       "    <tr>\n",
       "      <th>5779363423</th>\n",
       "      <td>114.0</td>\n",
       "      <td>4.5000</td>\n",
       "      <td>75.750000</td>\n",
       "      <td>80.362500</td>\n",
       "    </tr>\n",
       "    <tr>\n",
       "      <th>5856390535</th>\n",
       "      <td>126.0</td>\n",
       "      <td>9.8125</td>\n",
       "      <td>94.300000</td>\n",
       "      <td>94.306875</td>\n",
       "    </tr>\n",
       "    <tr>\n",
       "      <th>6011937372</th>\n",
       "      <td>134.0</td>\n",
       "      <td>9.8750</td>\n",
       "      <td>99.800000</td>\n",
       "      <td>99.991250</td>\n",
       "    </tr>\n",
       "    <tr>\n",
       "      <th>6055525935</th>\n",
       "      <td>31.0</td>\n",
       "      <td>4.2500</td>\n",
       "      <td>43.200000</td>\n",
       "      <td>32.477500</td>\n",
       "    </tr>\n",
       "    <tr>\n",
       "      <th>6379738428</th>\n",
       "      <td>98.0</td>\n",
       "      <td>8.8125</td>\n",
       "      <td>74.250000</td>\n",
       "      <td>73.934375</td>\n",
       "    </tr>\n",
       "    <tr>\n",
       "      <th>6385510894</th>\n",
       "      <td>69.0</td>\n",
       "      <td>7.5000</td>\n",
       "      <td>81.950000</td>\n",
       "      <td>65.602500</td>\n",
       "    </tr>\n",
       "    <tr>\n",
       "      <th>6667729413</th>\n",
       "      <td>53.0</td>\n",
       "      <td>7.0000</td>\n",
       "      <td>67.850000</td>\n",
       "      <td>52.782500</td>\n",
       "    </tr>\n",
       "    <tr>\n",
       "      <th>6680270432</th>\n",
       "      <td>81.0</td>\n",
       "      <td>8.4375</td>\n",
       "      <td>58.450000</td>\n",
       "      <td>59.968125</td>\n",
       "    </tr>\n",
       "    <tr>\n",
       "      <th>6884986299</th>\n",
       "      <td>72.0</td>\n",
       "      <td>8.1250</td>\n",
       "      <td>85.850000</td>\n",
       "      <td>68.651250</td>\n",
       "    </tr>\n",
       "    <tr>\n",
       "      <th>6966553256</th>\n",
       "      <td>85.0</td>\n",
       "      <td>8.6250</td>\n",
       "      <td>66.250000</td>\n",
       "      <td>65.106250</td>\n",
       "    </tr>\n",
       "    <tr>\n",
       "      <th>7076177958</th>\n",
       "      <td>83.0</td>\n",
       "      <td>8.5000</td>\n",
       "      <td>87.200000</td>\n",
       "      <td>73.715000</td>\n",
       "    </tr>\n",
       "    <tr>\n",
       "      <th>7197527512</th>\n",
       "      <td>103.0</td>\n",
       "      <td>9.1250</td>\n",
       "      <td>84.950000</td>\n",
       "      <td>80.796250</td>\n",
       "    </tr>\n",
       "    <tr>\n",
       "      <th>7342460893</th>\n",
       "      <td>84.0</td>\n",
       "      <td>7.2500</td>\n",
       "      <td>77.100000</td>\n",
       "      <td>69.382500</td>\n",
       "    </tr>\n",
       "    <tr>\n",
       "      <th>7349631176</th>\n",
       "      <td>49.0</td>\n",
       "      <td>7.7500</td>\n",
       "      <td>63.900000</td>\n",
       "      <td>49.517500</td>\n",
       "    </tr>\n",
       "    <tr>\n",
       "      <th>7629469598</th>\n",
       "      <td>82.0</td>\n",
       "      <td>8.2500</td>\n",
       "      <td>66.300000</td>\n",
       "      <td>63.872500</td>\n",
       "    </tr>\n",
       "    <tr>\n",
       "      <th>7785161719</th>\n",
       "      <td>53.0</td>\n",
       "      <td>7.5625</td>\n",
       "      <td>73.800000</td>\n",
       "      <td>55.544375</td>\n",
       "    </tr>\n",
       "    <tr>\n",
       "      <th>8093368158</th>\n",
       "      <td>100.0</td>\n",
       "      <td>8.8750</td>\n",
       "      <td>92.200000</td>\n",
       "      <td>82.821250</td>\n",
       "    </tr>\n",
       "    <tr>\n",
       "      <th>8223787343</th>\n",
       "      <td>129.0</td>\n",
       "      <td>9.8125</td>\n",
       "      <td>98.200000</td>\n",
       "      <td>97.261875</td>\n",
       "    </tr>\n",
       "    <tr>\n",
       "      <th>8745287205</th>\n",
       "      <td>89.0</td>\n",
       "      <td>6.8750</td>\n",
       "      <td>72.500000</td>\n",
       "      <td>69.256250</td>\n",
       "    </tr>\n",
       "    <tr>\n",
       "      <th>8854235913</th>\n",
       "      <td>98.0</td>\n",
       "      <td>7.8750</td>\n",
       "      <td>88.350000</td>\n",
       "      <td>80.138750</td>\n",
       "    </tr>\n",
       "    <tr>\n",
       "      <th>8918171989</th>\n",
       "      <td>85.0</td>\n",
       "      <td>8.0000</td>\n",
       "      <td>72.000000</td>\n",
       "      <td>67.600000</td>\n",
       "    </tr>\n",
       "    <tr>\n",
       "      <th>8967050548</th>\n",
       "      <td>78.0</td>\n",
       "      <td>7.6875</td>\n",
       "      <td>59.450000</td>\n",
       "      <td>59.105625</td>\n",
       "    </tr>\n",
       "    <tr>\n",
       "      <th>8996487694</th>\n",
       "      <td>19.0</td>\n",
       "      <td>3.7500</td>\n",
       "      <td>35.716093</td>\n",
       "      <td>24.234742</td>\n",
       "    </tr>\n",
       "    <tr>\n",
       "      <th>9009079932</th>\n",
       "      <td>63.0</td>\n",
       "      <td>7.0000</td>\n",
       "      <td>64.550000</td>\n",
       "      <td>55.297500</td>\n",
       "    </tr>\n",
       "    <tr>\n",
       "      <th>9100330448</th>\n",
       "      <td>55.0</td>\n",
       "      <td>6.6875</td>\n",
       "      <td>47.850000</td>\n",
       "      <td>44.535625</td>\n",
       "    </tr>\n",
       "    <tr>\n",
       "      <th>9277458637</th>\n",
       "      <td>40.0</td>\n",
       "      <td>4.6250</td>\n",
       "      <td>67.050000</td>\n",
       "      <td>46.866250</td>\n",
       "    </tr>\n",
       "    <tr>\n",
       "      <th>9443081499</th>\n",
       "      <td>65.0</td>\n",
       "      <td>7.9375</td>\n",
       "      <td>64.050000</td>\n",
       "      <td>56.013125</td>\n",
       "    </tr>\n",
       "    <tr>\n",
       "      <th>9540141066</th>\n",
       "      <td>74.0</td>\n",
       "      <td>9.5625</td>\n",
       "      <td>79.750000</td>\n",
       "      <td>66.921875</td>\n",
       "    </tr>\n",
       "    <tr>\n",
       "      <th>9684906286</th>\n",
       "      <td>32.0</td>\n",
       "      <td>7.5000</td>\n",
       "      <td>67.800000</td>\n",
       "      <td>44.435000</td>\n",
       "    </tr>\n",
       "    <tr>\n",
       "      <th>9882408935</th>\n",
       "      <td>111.0</td>\n",
       "      <td>9.7500</td>\n",
       "      <td>93.450000</td>\n",
       "      <td>87.915000</td>\n",
       "    </tr>\n",
       "  </tbody>\n",
       "</table>\n",
       "</div>"
      ],
      "text/plain": [
       "            Final  Quiz_Avg  Midterm_Avg  Weighted_Course_Grade\n",
       "student_id                                                     \n",
       "1367593690   96.0    6.8750    64.750000              68.568750\n",
       "1567876630   69.0    7.3750    75.700000              62.771250\n",
       "1617655608   94.0    7.8750    75.350000              72.688750\n",
       "1830694822   52.0    6.5000    56.950000              47.402500\n",
       "2267294565   79.0    8.3750    69.600000              64.176250\n",
       "2328480380  118.0    8.5000    90.600000              89.245000\n",
       "2503055012   75.0    7.5000    80.250000              67.237500\n",
       "2933314271  113.0    9.6875    95.800000              89.763125\n",
       "3013545559   60.0    7.8750    80.350000              61.338750\n",
       "3053107449   99.0    9.8750    96.050000              84.303750\n",
       "3164838931  100.0    8.9375    86.550000              80.288125\n",
       "3246610981   73.0    7.0000    71.650000              62.492500\n",
       "3422798597   97.0    8.3750    86.500000              78.981250\n",
       "3426990311  104.0    8.0625    58.450000              69.111875\n",
       "3444235888   84.0    8.7500    84.850000              73.095000\n",
       "3687160969  112.0    9.3750    95.900000              89.361250\n",
       "3753516619  126.0    9.7500    83.950000              89.640000\n",
       "4188332510  106.0    9.8750    96.050000              87.103750\n",
       "4304604102   53.0    5.0000    60.300000              49.085000\n",
       "4426198523  107.0    9.4375    86.150000              82.983125\n",
       "4443137050   82.0    8.3750    74.100000              67.401250\n",
       "4620130367  101.0    8.3750    74.250000              75.068750\n",
       "4738897107  103.0    8.6250    91.450000              83.646250\n",
       "4889751235   58.0    8.1250    79.850000              60.351250\n",
       "4916395511  127.0    9.4375    97.250000              95.978125\n",
       "5190083554   56.0    9.3125    79.750000              59.684375\n",
       "5362584796   95.0    8.6250    85.700000              77.858750\n",
       "5383031004  117.0    8.6250    85.350000              86.501250\n",
       "5779363423  114.0    4.5000    75.750000              80.362500\n",
       "5856390535  126.0    9.8125    94.300000              94.306875\n",
       "6011937372  134.0    9.8750    99.800000              99.991250\n",
       "6055525935   31.0    4.2500    43.200000              32.477500\n",
       "6379738428   98.0    8.8125    74.250000              73.934375\n",
       "6385510894   69.0    7.5000    81.950000              65.602500\n",
       "6667729413   53.0    7.0000    67.850000              52.782500\n",
       "6680270432   81.0    8.4375    58.450000              59.968125\n",
       "6884986299   72.0    8.1250    85.850000              68.651250\n",
       "6966553256   85.0    8.6250    66.250000              65.106250\n",
       "7076177958   83.0    8.5000    87.200000              73.715000\n",
       "7197527512  103.0    9.1250    84.950000              80.796250\n",
       "7342460893   84.0    7.2500    77.100000              69.382500\n",
       "7349631176   49.0    7.7500    63.900000              49.517500\n",
       "7629469598   82.0    8.2500    66.300000              63.872500\n",
       "7785161719   53.0    7.5625    73.800000              55.544375\n",
       "8093368158  100.0    8.8750    92.200000              82.821250\n",
       "8223787343  129.0    9.8125    98.200000              97.261875\n",
       "8745287205   89.0    6.8750    72.500000              69.256250\n",
       "8854235913   98.0    7.8750    88.350000              80.138750\n",
       "8918171989   85.0    8.0000    72.000000              67.600000\n",
       "8967050548   78.0    7.6875    59.450000              59.105625\n",
       "8996487694   19.0    3.7500    35.716093              24.234742\n",
       "9009079932   63.0    7.0000    64.550000              55.297500\n",
       "9100330448   55.0    6.6875    47.850000              44.535625\n",
       "9277458637   40.0    4.6250    67.050000              46.866250\n",
       "9443081499   65.0    7.9375    64.050000              56.013125\n",
       "9540141066   74.0    9.5625    79.750000              66.921875\n",
       "9684906286   32.0    7.5000    67.800000              44.435000\n",
       "9882408935  111.0    9.7500    93.450000              87.915000"
      ]
     },
     "execution_count": 191,
     "metadata": {},
     "output_type": "execute_result"
    }
   ],
   "source": [
    "agg_df"
   ]
  },
  {
   "cell_type": "markdown",
   "id": "58c1c1da-11e8-4c89-b6af-b0fc8839d269",
   "metadata": {
    "jp-MarkdownHeadingCollapsed": true
   },
   "source": [
    "# III. Letter Grade Determination"
   ]
  },
  {
   "cell_type": "markdown",
   "id": "a2c9bf5f-4dc3-4d97-bdff-a38c7144ac8b",
   "metadata": {
    "jp-MarkdownHeadingCollapsed": true
   },
   "source": [
    "## a. EDA"
   ]
  },
  {
   "cell_type": "markdown",
   "id": "50ef63fd-1c08-4dbd-9f4a-bd40bac4d478",
   "metadata": {},
   "source": [
    "I utilized the MatPlot Library to create a two-by-two display of four subplots. In each plot I then utilized the seaborn library to generate density histograms of each exam grade or average and course grade with 12 bins to represent the 12 letter grades."
   ]
  },
  {
   "cell_type": "code",
   "execution_count": 192,
   "id": "dc4ae5da-725d-4ddb-94f7-a472ed3b8c4b",
   "metadata": {},
   "outputs": [
    {
     "data": {
      "image/png": "[encoded data removed]",
      "text/plain": [
       "<Figure size 1000x500 with 4 Axes>"
      ]
     },
     "metadata": {},
     "output_type": "display_data"
    }
   ],
   "source": [
    "# Exploratory Data Analysis\n",
    "fig, ax = plt.subplots(2, 2)\n",
    "plt.rcParams[\"figure.figsize\"] = [10, 5]\n",
    "plt.rcParams[\"figure.autolayout\"] = True\n",
    "\n",
    "sns.histplot(agg_df, x=\"Final\", stat='density', fill=True, alpha=0.3, legend=True, bins = 12, color='blue', ax=ax[0, 0]);\n",
    "sns.histplot(agg_df, x=\"Quiz_Avg\", stat='density', fill=True, alpha=0.3, legend=True, bins = 12, color='red', ax=ax[0, 1]);\n",
    "sns.histplot(agg_df, x=\"Midterm_Avg\", stat='density', fill=True, alpha=0.3, legend=True, bins = 12, color='green', ax=ax[1, 0]);\n",
    "sns.histplot(agg_df, x=\"Weighted_Course_Grade\", stat='density', fill=True, alpha=0.3, legend=True, bins = 12, color='yellow', ax=ax[1, 1]);"
   ]
  },
  {
   "cell_type": "markdown",
   "id": "facd27a4-7f84-47cd-83f7-585213147600",
   "metadata": {
    "jp-MarkdownHeadingCollapsed": true
   },
   "source": [
    "## b. Cut-offs and Bin-Sizing using pd.cut()"
   ]
  },
  {
   "cell_type": "markdown",
   "id": "2f3b810c-04c1-4a5b-9a88-9f0dd8af4a75",
   "metadata": {},
   "source": [
    "Upon observing the structure of the score data in histogram plots, I decided to use the NumPy arange() function to create same-sized arrays that would function as bins to separate the score data for each attribute. Since there are 12 available letter grades, I identified the starting value of the array to be zero and the step value to be 1 + 1/12  1/12. This generated 12 bins that could be assigned to each of the 12 letter grades or regular GPAvalues. Since there are 13 rather than 12 weighted GPA values, the step was changed 1/13ths instead of 1/12ths to account for each value. I then Identified the lists of GPA, weighted GPA, and letter grade values."
   ]
  },
  {
   "cell_type": "code",
   "execution_count": 213,
   "id": "fe6964e2-57e4-48ab-91ad-740c07b67895",
   "metadata": {},
   "outputs": [],
   "source": [
    "final_bins = agg_df.Final.quantile(np.arange(0, 1 + 1/12, 1/12))\n",
    "final_bins [0] = 0\n",
    "mid_bins = agg_df.Midterm_Avg.quantile(np.arange(0, 1 + 1/12, 1/12))\n",
    "mid_bins [0] = 0\n",
    "quiz_bins = agg_df.Quiz_Avg.quantile(np.arange(0, 1 + 1/12, 1/12))\n",
    "quiz_bins [0] = 0\n",
    "course_bins = agg_df.Weighted_Course_Grade.quantile(np.arange(0, 1 + 1/12, 1/12))\n",
    "course_bins [0] = 0\n",
    "course_gpa_bins = agg_df.Weighted_Course_Grade.quantile(np.arange(0, 1 + 1/13, 1/13))\n",
    "course_gpa_bins [0] = 0\n",
    "\n",
    "gpa = [0, 0.7, 1.0, 1.3, 1.7, 2.0, 2.3, 2.7, 3.0, 3.3, 3.7, 4.0]\n",
    "weight_gpa = [0, 0.55, 0.85, 1.15, 1.55, 1.85, 2.15, 2.55, 2.85, 3.15, 3.55, 3.85, 4.0]\n",
    "letter = [\"F\", \"D-\", \"D\", \"D+\", \"C-\", \"C\", \"C+\", \"B-\", \"B\", \"B+\", \"A-\", \"A\"]"
   ]
  },
  {
   "cell_type": "markdown",
   "id": "3fae1d4d-d432-4c17-9b47-e8896fe3ef23",
   "metadata": {},
   "source": [
    "With bin sizes determined, I could apply the Pandas cut() function to the aggregate data frame to assign GPA and letter grade values to appropriate exam and course grades. The \"bins\" arguments correspond to the respective quantile arrays calculated with the aforementioned NumPy arange() function. The list of letters and GPA values are indicated as \"labels\" for corresponding bins in the data frame according to grading criteria."
   ]
  },
  {
   "cell_type": "code",
   "execution_count": 214,
   "id": "5f20958c-79d8-4f39-a9e5-c27e9bc0218b",
   "metadata": {},
   "outputs": [],
   "source": [
    "Final_GPA = pd.cut(agg_df.Final, bins=final_bins, labels = gpa, include_lowest=True, ordered=True, precision=2)\n",
    "Quiz_GPA = pd.cut(agg_df.Quiz_Avg, bins=quiz_bins, labels = gpa, include_lowest=True, ordered=True, precision=2)\n",
    "Midterm_GPA = pd.cut(agg_df.Midterm_Avg, bins=mid_bins, labels = gpa, include_lowest=True, ordered=True, precision=2)\n",
    "Course_Weighted_GPA = pd.cut(agg_df.Weighted_Course_Grade, bins=course_gpa_bins, labels = weight_gpa, include_lowest=True, ordered=True, precision=2)\n",
    "Course_Letter_Grade = pd.cut(agg_df.Weighted_Course_Grade, bins=course_bins, labels = letters, include_lowest=True, ordered=True, precision=2)"
   ]
  },
  {
   "cell_type": "markdown",
   "id": "3f850582-97f7-4561-8360-f1c26b46d261",
   "metadata": {
    "jp-MarkdownHeadingCollapsed": true
   },
   "source": [
    "# IV. Final Score Data"
   ]
  },
  {
   "cell_type": "markdown",
   "id": "8a1a91a2-12b8-4e51-adba-60ff368a1c12",
   "metadata": {},
   "source": [
    "Once every score for each student was assigned a GPA or letter grade, I used the Pandas DataFrame() function to create a final data frame with the assigned grade values and letters corresponding to each individual student determined by the cut() function. "
   ]
  },
  {
   "cell_type": "code",
   "execution_count": 225,
   "id": "8be5be5c-792e-4610-9670-8617d967d25e",
   "metadata": {},
   "outputs": [],
   "source": [
    "score_df = pd.DataFrame(data = {'Quiz_GPA': Quiz_GPA, 'Midterm_GPA': Midterm_GPA, 'Final_GPA': Final_GPA, \n",
    "                                'Course_Weighted_GPA' : Course_Weighted_GPA, 'Course_Letter_Grade' : Course_Letter_Grade })"
   ]
  },
  {
   "cell_type": "markdown",
   "id": "6580fa3c-c8c8-4bb1-bb4b-b346e7c4f731",
   "metadata": {},
   "source": [
    "The grading criteria requires student scores to be sorted by Course Weighted GPA in descending order beginning with 4.00. To achieve this, I utilized the loc method to ensure an entire row was being sorted with its corresponding attributes rather than sorting a single attribute column. I then applied the sort_values() function to sort rows by the ‘Course_Weighted_GPA’ attribute and indicated descending order by setting ascending equal to False. To visualize the results of this sorting, I applied the head method with an argument of 10 to display the first ten rows.\n"
   ]
  },
  {
   "cell_type": "code",
   "execution_count": 229,
   "id": "6f9a8c4a-9cc9-49dc-88cf-1d607d7a4358",
   "metadata": {},
   "outputs": [
    {
     "data": {
      "text/html": [
       "<div>\n",
       "<style scoped>\n",
       "    .dataframe tbody tr th:only-of-type {\n",
       "        vertical-align: middle;\n",
       "    }\n",
       "\n",
       "    .dataframe tbody tr th {\n",
       "        vertical-align: top;\n",
       "    }\n",
       "\n",
       "    .dataframe thead th {\n",
       "        text-align: right;\n",
       "    }\n",
       "</style>\n",
       "<table border=\"1\" class=\"dataframe\">\n",
       "  <thead>\n",
       "    <tr style=\"text-align: right;\">\n",
       "      <th></th>\n",
       "      <th>Quiz_GPA</th>\n",
       "      <th>Midterm_GPA</th>\n",
       "      <th>Final_GPA</th>\n",
       "      <th>Course_Weighted_GPA</th>\n",
       "      <th>Course_Letter_Grade</th>\n",
       "    </tr>\n",
       "    <tr>\n",
       "      <th>student_id</th>\n",
       "      <th></th>\n",
       "      <th></th>\n",
       "      <th></th>\n",
       "      <th></th>\n",
       "      <th></th>\n",
       "    </tr>\n",
       "  </thead>\n",
       "  <tbody>\n",
       "    <tr>\n",
       "      <th>5856390535</th>\n",
       "      <td>4.0</td>\n",
       "      <td>3.7</td>\n",
       "      <td>4.0</td>\n",
       "      <td>4.00</td>\n",
       "      <td>A</td>\n",
       "    </tr>\n",
       "    <tr>\n",
       "      <th>2933314271</th>\n",
       "      <td>3.7</td>\n",
       "      <td>3.7</td>\n",
       "      <td>3.7</td>\n",
       "      <td>4.00</td>\n",
       "      <td>A</td>\n",
       "    </tr>\n",
       "    <tr>\n",
       "      <th>8223787343</th>\n",
       "      <td>4.0</td>\n",
       "      <td>4.0</td>\n",
       "      <td>4.0</td>\n",
       "      <td>4.00</td>\n",
       "      <td>A</td>\n",
       "    </tr>\n",
       "    <tr>\n",
       "      <th>6011937372</th>\n",
       "      <td>4.0</td>\n",
       "      <td>4.0</td>\n",
       "      <td>4.0</td>\n",
       "      <td>4.00</td>\n",
       "      <td>A</td>\n",
       "    </tr>\n",
       "    <tr>\n",
       "      <th>4916395511</th>\n",
       "      <td>3.3</td>\n",
       "      <td>4.0</td>\n",
       "      <td>4.0</td>\n",
       "      <td>4.00</td>\n",
       "      <td>A</td>\n",
       "    </tr>\n",
       "    <tr>\n",
       "      <th>3753516619</th>\n",
       "      <td>3.7</td>\n",
       "      <td>2.7</td>\n",
       "      <td>4.0</td>\n",
       "      <td>3.85</td>\n",
       "      <td>A-</td>\n",
       "    </tr>\n",
       "    <tr>\n",
       "      <th>3687160969</th>\n",
       "      <td>3.3</td>\n",
       "      <td>3.7</td>\n",
       "      <td>3.7</td>\n",
       "      <td>3.85</td>\n",
       "      <td>A-</td>\n",
       "    </tr>\n",
       "    <tr>\n",
       "      <th>9882408935</th>\n",
       "      <td>3.7</td>\n",
       "      <td>3.7</td>\n",
       "      <td>3.3</td>\n",
       "      <td>3.85</td>\n",
       "      <td>A-</td>\n",
       "    </tr>\n",
       "    <tr>\n",
       "      <th>2328480380</th>\n",
       "      <td>2.7</td>\n",
       "      <td>3.3</td>\n",
       "      <td>3.7</td>\n",
       "      <td>3.85</td>\n",
       "      <td>A-</td>\n",
       "    </tr>\n",
       "    <tr>\n",
       "      <th>5383031004</th>\n",
       "      <td>2.7</td>\n",
       "      <td>2.7</td>\n",
       "      <td>3.7</td>\n",
       "      <td>3.55</td>\n",
       "      <td>B+</td>\n",
       "    </tr>\n",
       "  </tbody>\n",
       "</table>\n",
       "</div>"
      ],
      "text/plain": [
       "           Quiz_GPA Midterm_GPA Final_GPA Course_Weighted_GPA  \\\n",
       "student_id                                                      \n",
       "5856390535      4.0         3.7       4.0                4.00   \n",
       "2933314271      3.7         3.7       3.7                4.00   \n",
       "8223787343      4.0         4.0       4.0                4.00   \n",
       "6011937372      4.0         4.0       4.0                4.00   \n",
       "4916395511      3.3         4.0       4.0                4.00   \n",
       "3753516619      3.7         2.7       4.0                3.85   \n",
       "3687160969      3.3         3.7       3.7                3.85   \n",
       "9882408935      3.7         3.7       3.3                3.85   \n",
       "2328480380      2.7         3.3       3.7                3.85   \n",
       "5383031004      2.7         2.7       3.7                3.55   \n",
       "\n",
       "           Course_Letter_Grade  \n",
       "student_id                      \n",
       "5856390535                   A  \n",
       "2933314271                   A  \n",
       "8223787343                   A  \n",
       "6011937372                   A  \n",
       "4916395511                   A  \n",
       "3753516619                  A-  \n",
       "3687160969                  A-  \n",
       "9882408935                  A-  \n",
       "2328480380                  A-  \n",
       "5383031004                  B+  "
      ]
     },
     "execution_count": 229,
     "metadata": {},
     "output_type": "execute_result"
    }
   ],
   "source": [
    "score_df.loc[:, [ 'Quiz_GPA', 'Midterm_GPA','Final_GPA',\n",
    "                 'Course_Weighted_GPA','Course_Letter_Grade' ]].sort_values('Course_Weighted_GPA', ascending=False).head(10)"
   ]
  },
  {
   "cell_type": "markdown",
   "id": "ba47a159-01b2-4eab-9db0-deeb63959df1",
   "metadata": {},
   "source": [
    "# V. Review"
   ]
  },
  {
   "cell_type": "markdown",
   "id": "ceabf59e-e35c-47d8-af1b-c2174ac81678",
   "metadata": {},
   "source": [
    "In review, there are ways in which I could have consolidated this process. I could have minimized my use of data frame creation and expanded on my implementation of function definition and use of NumPy arrays. However, the speed at which the code operates is notable. It is particularly notable that the use of loops was unnecessary, allowing for increased efficiency.  "
   ]
  }
 ],
 "metadata": {
  "kernelspec": {
   "display_name": "Python 3 (ipykernel)",
   "language": "python",
   "name": "python3"
  },
  "language_info": {
   "codemirror_mode": {
    "name": "ipython",
    "version": 3
   },
   "file_extension": ".py",
   "mimetype": "text/x-python",
   "name": "python",
   "nbconvert_exporter": "python",
   "pygments_lexer": "ipython3",
   "version": "3.11.4"
  }
 },
 "nbformat": 4,
 "nbformat_minor": 5
}
